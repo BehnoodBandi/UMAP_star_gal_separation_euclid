{
 "cells": [
  {
   "cell_type": "code",
   "execution_count": 1,
   "id": "050a59a7-2bce-4f43-b9c7-07cade54fb9c",
   "metadata": {},
   "outputs": [
    {
     "name": "stderr",
     "output_type": "stream",
     "text": [
      "2024-09-16 14:43:42.097009: I tensorflow/core/platform/cpu_feature_guard.cc:182] This TensorFlow binary is optimized to use available CPU instructions in performance-critical operations.\n",
      "To enable the following instructions: AVX2 AVX512F AVX512_VNNI FMA, in other operations, rebuild TensorFlow with the appropriate compiler flags.\n"
     ]
    }
   ],
   "source": [
    "# Importing modules\n",
    "import numpy as np\n",
    "import pandas as pd\n",
    "from sklearn.preprocessing import StandardScaler\n",
    "import umap.umap_ as umap\n",
    "import numba\n",
    "import pyarrow.dataset as ds\n",
    "import matplotlib.pylab as plt\n",
    "from tqdm.notebook import tqdm\n",
    "import hdbscan"
   ]
  },
  {
   "cell_type": "code",
   "execution_count": 2,
   "id": "7e1e1254-22ac-4187-a587-4f0c84614d56",
   "metadata": {},
   "outputs": [],
   "source": [
    "# Pandas display options (personal preference)\n",
    "pd.set_option('display.max_columns', None)\n",
    "pd.set_option('display.max_rows', 10)"
   ]
  },
  {
   "cell_type": "code",
   "execution_count": 3,
   "id": "9a324872-b453-44c0-b46d-2e7b3a008a50",
   "metadata": {},
   "outputs": [],
   "source": [
    "# Matplotlib options\n",
    "plt.rcParams['xtick.top'] = 'True'\n",
    "plt.rcParams['ytick.right'] = 'True'\n",
    "plt.rcParams['xtick.direction'] = 'in'\n",
    "plt.rcParams['ytick.direction'] = 'in'\n",
    "plt.rcParams['xtick.major.size'] = 6\n",
    "plt.rcParams['xtick.minor.size'] = 3\n",
    "plt.rcParams['ytick.major.size'] = 6\n",
    "plt.rcParams['xtick.minor.visible'] = 'True'\n",
    "plt.rcParams['ytick.minor.size'] = 3\n",
    "plt.rcParams['ytick.minor.visible'] = 'True'\n",
    "plt.rcParams['axes.linewidth'] = 1.2\n",
    "\n",
    "plt.rcParams['figure.figsize'] = [10,8]\n",
    "font = {'size'   : 20}\n",
    "plt.rc('font', **font)"
   ]
  },
  {
   "cell_type": "code",
   "execution_count": 27,
   "id": "3a70dc83-6609-409f-ba91-75e86468a0ba",
   "metadata": {},
   "outputs": [],
   "source": [
    "# Importing the G09 parquet file\n",
    "dataset = ds.dataset(\"../data/G09_1p1_Z22_unmasked.parquet\", format=\"parquet\")\n",
    "table = dataset.to_table()\n",
    "\n",
    "# Setting uberID as index\n",
    "df = table.to_pandas().set_index('uberID')\n",
    "df.index=df.index.astype('int64')\n",
    "\n",
    "del dataset,table"
   ]
  },
  {
   "cell_type": "code",
   "execution_count": 5,
   "id": "f694d01a-8563-4870-88ab-380716bc8f56",
   "metadata": {},
   "outputs": [],
   "source": [
    "# Getting rid of weird spaces in the class column\n",
    "df=df.replace({'class': {'ambiguous ': 'ambiguous',\n",
    "                         'star      ': 'star', \n",
    "                         'galaxy    ': 'galaxy', \n",
    "                         'artefact  ':'artefact'}})"
   ]
  },
  {
   "cell_type": "code",
   "execution_count": 6,
   "id": "21482372-1866-4498-bb1f-d8ff812aca8f",
   "metadata": {},
   "outputs": [],
   "source": [
    "# Making a number of cuts: magnitude, mask, starmask and removing artefacts\n",
    "df=df[(df['mag_Zt']<21.2) & \n",
    "      (df['mask']==0) & \n",
    "      (df['starmask']==0) & \n",
    "      (df['class']!='artefact')]"
   ]
  },
  {
   "cell_type": "code",
   "execution_count": 7,
   "id": "cc5c7f28-afd9-43ae-9cc4-6ae277479565",
   "metadata": {},
   "outputs": [],
   "source": [
    "# Getting a 1/100 subset of the data (for the purpose of this tutorial)\n",
    "df=df[::100]"
   ]
  },
  {
   "cell_type": "code",
   "execution_count": 8,
   "id": "509a8dd2-952b-4868-b821-e1307af64193",
   "metadata": {},
   "outputs": [
    {
     "name": "stderr",
     "output_type": "stream",
     "text": [
      "/Users/tc339/opt/anaconda3/lib/python3.9/site-packages/pandas/core/arraylike.py:397: RuntimeWarning: invalid value encountered in log10\n",
      "  result = getattr(ufunc, method)(*inputs, **kwargs)\n",
      "/Users/tc339/opt/anaconda3/lib/python3.9/site-packages/pandas/core/arraylike.py:397: RuntimeWarning: invalid value encountered in log10\n",
      "  result = getattr(ufunc, method)(*inputs, **kwargs)\n",
      "/Users/tc339/opt/anaconda3/lib/python3.9/site-packages/pandas/core/arraylike.py:397: RuntimeWarning: invalid value encountered in log10\n",
      "  result = getattr(ufunc, method)(*inputs, **kwargs)\n",
      "/Users/tc339/opt/anaconda3/lib/python3.9/site-packages/pandas/core/arraylike.py:397: RuntimeWarning: invalid value encountered in log10\n",
      "  result = getattr(ufunc, method)(*inputs, **kwargs)\n",
      "/Users/tc339/opt/anaconda3/lib/python3.9/site-packages/pandas/core/arraylike.py:397: RuntimeWarning: invalid value encountered in log10\n",
      "  result = getattr(ufunc, method)(*inputs, **kwargs)\n",
      "/Users/tc339/opt/anaconda3/lib/python3.9/site-packages/pandas/core/arraylike.py:397: RuntimeWarning: invalid value encountered in log10\n",
      "  result = getattr(ufunc, method)(*inputs, **kwargs)\n",
      "/Users/tc339/opt/anaconda3/lib/python3.9/site-packages/pandas/core/arraylike.py:397: RuntimeWarning: invalid value encountered in log10\n",
      "  result = getattr(ufunc, method)(*inputs, **kwargs)\n",
      "/Users/tc339/opt/anaconda3/lib/python3.9/site-packages/pandas/core/arraylike.py:397: RuntimeWarning: invalid value encountered in log10\n",
      "  result = getattr(ufunc, method)(*inputs, **kwargs)\n",
      "/Users/tc339/opt/anaconda3/lib/python3.9/site-packages/pandas/core/arraylike.py:397: RuntimeWarning: invalid value encountered in log10\n",
      "  result = getattr(ufunc, method)(*inputs, **kwargs)\n",
      "/Users/tc339/opt/anaconda3/lib/python3.9/site-packages/pandas/core/arraylike.py:397: RuntimeWarning: invalid value encountered in log10\n",
      "  result = getattr(ufunc, method)(*inputs, **kwargs)\n",
      "/Users/tc339/opt/anaconda3/lib/python3.9/site-packages/pandas/core/arraylike.py:397: RuntimeWarning: invalid value encountered in log10\n",
      "  result = getattr(ufunc, method)(*inputs, **kwargs)\n",
      "/Users/tc339/opt/anaconda3/lib/python3.9/site-packages/pandas/core/arraylike.py:397: RuntimeWarning: invalid value encountered in log10\n",
      "  result = getattr(ufunc, method)(*inputs, **kwargs)\n",
      "/Users/tc339/opt/anaconda3/lib/python3.9/site-packages/pandas/core/arraylike.py:397: RuntimeWarning: invalid value encountered in log10\n",
      "  result = getattr(ufunc, method)(*inputs, **kwargs)\n",
      "/Users/tc339/opt/anaconda3/lib/python3.9/site-packages/pandas/core/arraylike.py:397: RuntimeWarning: invalid value encountered in log10\n",
      "  result = getattr(ufunc, method)(*inputs, **kwargs)\n",
      "/Users/tc339/opt/anaconda3/lib/python3.9/site-packages/pandas/core/arraylike.py:397: RuntimeWarning: invalid value encountered in log10\n",
      "  result = getattr(ufunc, method)(*inputs, **kwargs)\n",
      "/Users/tc339/opt/anaconda3/lib/python3.9/site-packages/pandas/core/arraylike.py:397: RuntimeWarning: invalid value encountered in log10\n",
      "  result = getattr(ufunc, method)(*inputs, **kwargs)\n",
      "/Users/tc339/opt/anaconda3/lib/python3.9/site-packages/pandas/core/arraylike.py:397: RuntimeWarning: invalid value encountered in log10\n",
      "  result = getattr(ufunc, method)(*inputs, **kwargs)\n",
      "/Users/tc339/opt/anaconda3/lib/python3.9/site-packages/pandas/core/arraylike.py:397: RuntimeWarning: invalid value encountered in log10\n",
      "  result = getattr(ufunc, method)(*inputs, **kwargs)\n"
     ]
    }
   ],
   "source": [
    "# Define the bands and their corresponding flux columns\n",
    "bands = ['u', 'g', 'r', 'i', 'Z', 'Y', 'J', 'H', 'K']\n",
    "tot_suffix = 't'\n",
    "col_suffix = 'c'\n",
    "\n",
    "# Loop through each band and calculate magnitudes for both 'tot' and 'col'\n",
    "for band in bands:\n",
    "    df[f'mag_{band}_tot'] = 8.9 - 2.5 * np.log10(df[f'flux_{band}t'])\n",
    "    df[f'mag_{band}_col'] = 8.9 - 2.5 * np.log10(df[f'flux_{band}c'])"
   ]
  },
  {
   "cell_type": "code",
   "execution_count": 9,
   "id": "1b7b951b-30dd-4c07-8768-1470991ad9ca",
   "metadata": {},
   "outputs": [],
   "source": [
    "# Generate lists for 'tot' and 'col' features\n",
    "mag_tot_features = [f'mag_{band}_tot' for band in bands]\n",
    "mag_col_features = [f'mag_{band}_col' for band in bands]\n",
    "\n",
    "# Making a list of all features we will use for UMAP\n",
    "features = mag_tot_features + mag_col_features + ['R50', 'R90', 'axrat']\n",
    "\n",
    "# Colours list\n",
    "colours = mag_col_features"
   ]
  },
  {
   "cell_type": "code",
   "execution_count": 10,
   "id": "b77f7315-39a0-448a-80e9-8a4f46ea136a",
   "metadata": {},
   "outputs": [],
   "source": [
    "# Removing all rows of the dataframe with NaN values\n",
    "df_lim=df[features]\n",
    "\n",
    "df=df.drop(df_lim[df_lim.isnull().any(axis=1)].index)\n",
    "\n",
    "del df_lim"
   ]
  },
  {
   "cell_type": "code",
   "execution_count": 11,
   "id": "385116ce-8153-4baa-81c5-6f408847852a",
   "metadata": {},
   "outputs": [],
   "source": [
    "# Making an empty array ready to put features\n",
    "X = np.zeros((len(df), 48))"
   ]
  },
  {
   "cell_type": "code",
   "execution_count": 12,
   "id": "b888d5be-b5d5-4edf-8ca3-e7e86e2c17a1",
   "metadata": {},
   "outputs": [
    {
     "data": {
      "application/vnd.jupyter.widget-view+json": {
       "model_id": "2e7e69f442d94edf8efd84941e5e7003",
       "version_major": 2,
       "version_minor": 0
      },
      "text/plain": [
       "  0%|          | 0/9 [00:00<?, ?it/s]"
      ]
     },
     "metadata": {},
     "output_type": "display_data"
    }
   ],
   "source": [
    "# Filling the first 36 features as each unique colours\n",
    "l=0\n",
    "for i in tqdm(range(len(colours))):\n",
    "    for j in range(i+1,len(colours)):\n",
    "        X[:,l]=(df[colours[i]] - df[colours[j]])\n",
    "        l+=1"
   ]
  },
  {
   "cell_type": "code",
   "execution_count": 13,
   "id": "08b2bede-c60f-44f4-b9b9-76da358b0e8f",
   "metadata": {},
   "outputs": [],
   "source": [
    "# Filling the remaining features (total fluxes and size information)\n",
    "X[:,36]=(df['mag_u_tot'])\n",
    "X[:,37]=(df['mag_g_tot'])\n",
    "X[:,38]=(df['mag_r_tot'])\n",
    "X[:,39]=(df['mag_i_tot'])\n",
    "X[:,40]=(df['mag_Z_tot'])\n",
    "X[:,41]=(df['mag_Y_tot'])\n",
    "X[:,42]=(df['mag_J_tot'])\n",
    "X[:,43]=(df['mag_H_tot'])\n",
    "X[:,44]=(df['mag_K_tot'])\n",
    "X[:,45]=np.log10(df['R50'])\n",
    "X[:,46]=df['R50']/df['R90']\n",
    "X[:,47]=df['axrat']"
   ]
  },
  {
   "cell_type": "code",
   "execution_count": 14,
   "id": "b1393048-6ee6-4802-a29b-1ae692860e27",
   "metadata": {},
   "outputs": [],
   "source": [
    "# Scaling features to 0 mean and unit variance\n",
    "X = StandardScaler().fit_transform(X)"
   ]
  },
  {
   "cell_type": "code",
   "execution_count": 15,
   "id": "ac0d7679-2247-447b-ab3c-5cbda6791f7c",
   "metadata": {},
   "outputs": [
    {
     "name": "stderr",
     "output_type": "stream",
     "text": [
      "OMP: Info #271: omp_set_nested routine deprecated, please use omp_set_max_active_levels instead.\n"
     ]
    },
    {
     "name": "stdout",
     "output_type": "stream",
     "text": [
      "Done\n"
     ]
    }
   ],
   "source": [
    "# Applying UMAP to our features\n",
    "# These parameters have been fairly tuned, but there's definitely some room for some more tinkering\n",
    "# This takes about 1 minutes on my PC\n",
    "X_umap=umap.UMAP(\n",
    "    n_neighbors=200,\n",
    "    min_dist=0,\n",
    "    n_components=10,\n",
    "    random_state=42,\n",
    ").fit_transform(X)\n",
    "print('Done')"
   ]
  },
  {
   "cell_type": "code",
   "execution_count": 16,
   "id": "388816bb-1ca4-40df-9ed1-8106d097c214",
   "metadata": {},
   "outputs": [
    {
     "data": {
      "image/png": "[encoded data removed]",
      "text/plain": [
       "<Figure size 432x288 with 1 Axes>"
      ]
     },
     "metadata": {
      "needs_background": "light"
     },
     "output_type": "display_data"
    }
   ],
   "source": [
    "# Plotting the first two UMAP features\n",
    "plt.scatter(X_umap[:,0],X_umap[:,1],s=5,linewidth=0)\n",
    "plt.xlabel('UMAP 1')\n",
    "plt.ylabel('UMAP 2')\n",
    "plt.show()"
   ]
  },
  {
   "cell_type": "code",
   "execution_count": 17,
   "id": "0996e3d7-ba1a-4c46-9773-b4ae29ccb9d7",
   "metadata": {},
   "outputs": [],
   "source": [
    "# Loop through UMAP components and assign them to the DataFrame\n",
    "for i in range(10):\n",
    "    df[f'umap{i+1}'] = X_umap[:, i]"
   ]
  },
  {
   "cell_type": "code",
   "execution_count": 18,
   "id": "0498b192-5da5-48f1-ae96-819fa18ed714",
   "metadata": {},
   "outputs": [],
   "source": [
    "# Defining labels as stars, galaxies, ambiguous\n",
    "labels=np.unique(df['class'])\n",
    "colors=['black','red','blue']"
   ]
  },
  {
   "cell_type": "code",
   "execution_count": 19,
   "id": "c45e9d32-d294-47cb-98aa-e27016991667",
   "metadata": {},
   "outputs": [
    {
     "data": {
      "application/vnd.jupyter.widget-view+json": {
       "model_id": "e5bd6300e3c24ebea5c2c8f669a0f9a2",
       "version_major": 2,
       "version_minor": 0
      },
      "text/plain": [
       "  0%|          | 0/3 [00:00<?, ?it/s]"
      ]
     },
     "metadata": {},
     "output_type": "display_data"
    },
    {
     "data": {
      "image/png": "[encoded data removed]",
      "text/plain": [
       "<Figure size 432x288 with 1 Axes>"
      ]
     },
     "metadata": {
      "needs_background": "light"
     },
     "output_type": "display_data"
    }
   ],
   "source": [
    "# Plotting UMAP 1 and UMAP 2 with baseline label as colour\n",
    "for i in tqdm(range(len(labels))):\n",
    "    plt.scatter(df[df['class']==labels[i]]['umap1'],\n",
    "                df[df['class']==labels[i]]['umap2'],\n",
    "                s=5,label=labels[i],c=colors[i],linewidth=0)\n",
    "\n",
    "lgnd=plt.legend(frameon=False,title='Baseline label')\n",
    "\n",
    "lgnd.legend_handles[0]._sizes = [50]\n",
    "lgnd.legend_handles[1]._sizes = [50]\n",
    "lgnd.legend_handles[2]._sizes = [50]\n",
    "plt.xlabel('UMAP 1')\n",
    "plt.ylabel('UMAP 2')\n",
    "\n",
    "plt.show()"
   ]
  },
  {
   "cell_type": "code",
   "execution_count": 20,
   "id": "79e939bd-3eab-4734-af6b-44442f6f5443",
   "metadata": {},
   "outputs": [],
   "source": [
    "# HDBSCAN clustering the UMAP feautre space\n",
    "# min_samples should be probably 1000 when you apply to the entirety of the sample\n",
    "clusterer = hdbscan.HDBSCAN(core_dist_n_jobs=-1,min_samples=100).fit(X_umap)"
   ]
  },
  {
   "cell_type": "code",
   "execution_count": 21,
   "id": "95383576-497e-4e8c-b98f-716ee544fc72",
   "metadata": {},
   "outputs": [],
   "source": [
    "# Setting the output of HDBSCAN into the dataframe\n",
    "df['cluster_label']=clusterer.labels_"
   ]
  },
  {
   "cell_type": "code",
   "execution_count": 22,
   "id": "7d75c9c4-f83a-46ff-b878-552cbb55f3b2",
   "metadata": {},
   "outputs": [],
   "source": [
    "# Defining the unique cluster labels\n",
    "clusterer_labels=np.unique(df['cluster_label'])"
   ]
  },
  {
   "cell_type": "code",
   "execution_count": 23,
   "id": "9be18508-391d-44d4-9c7e-cba360e1c63a",
   "metadata": {},
   "outputs": [
    {
     "name": "stdout",
     "output_type": "stream",
     "text": [
      "0 :\n",
      "galaxy: 403\n",
      "star: 2612\n",
      "ambiguous: 755\n",
      "1 :\n",
      "galaxy: 4472\n",
      "star: 4\n",
      "ambiguous: 164\n"
     ]
    }
   ],
   "source": [
    "# For each HDBSCAN label, see how the baseline classification corresponds\n",
    "for label in clusterer_labels:\n",
    "    print(label,':')\n",
    "    print('galaxy:',len(df[(df['cluster_label']==label) & (df['class']=='galaxy')]))\n",
    "    print('star:',len(df[(df['cluster_label']==label) & (df['class']=='star')]))\n",
    "    print('ambiguous:',len(df[(df['cluster_label']==label) & (df['class']=='ambiguous')]))"
   ]
  },
  {
   "cell_type": "code",
   "execution_count": 24,
   "id": "93477abd-d37c-475d-9930-8d2c74005337",
   "metadata": {},
   "outputs": [],
   "source": [
    "# Manually defining the HDBSCAN outputs to galaxy or star, based on the previous cell\n",
    "df['cluster_label']=df['cluster_label'].replace([1], 'galaxy')\n",
    "df['cluster_label']=df['cluster_label'].replace([0], 'star')"
   ]
  },
  {
   "cell_type": "code",
   "execution_count": 25,
   "id": "a7af9f83-4ae1-4064-9983-461760422625",
   "metadata": {},
   "outputs": [
    {
     "data": {
      "image/png": "[encoded data removed]",
      "text/plain": [
       "<Figure size 432x288 with 1 Axes>"
      ]
     },
     "metadata": {
      "needs_background": "light"
     },
     "output_type": "display_data"
    }
   ],
   "source": [
    "# Plotting UMAP 1 and UMAP 2 again with cluster label. Should correspond roughly with previous plot\n",
    "plt.scatter(df[df['cluster_label']=='galaxy']['umap1'],\n",
    "            df[df['cluster_label']=='galaxy']['umap2'],\n",
    "            s=5,linewidth=0,label='Galaxy',c='red')\n",
    "\n",
    "plt.scatter(df[df['cluster_label']=='star']['umap1'],\n",
    "            df[df['cluster_label']=='star']['umap2'],\n",
    "            s=5,linewidth=0,label='Star',c='blue')\n",
    "\n",
    "lgnd=plt.legend(frameon=False,title='Cluster label')\n",
    "\n",
    "lgnd.legend_handles[0]._sizes = [50]\n",
    "lgnd.legend_handles[1]._sizes = [50]\n",
    "plt.xlabel('UMAP 1')\n",
    "plt.ylabel('UMAP 2')\n",
    "\n",
    "plt.show()"
   ]
  },
  {
   "cell_type": "code",
   "execution_count": 26,
   "id": "a8a7e2b5-e0d2-42f6-bc40-11e4faa33a96",
   "metadata": {},
   "outputs": [],
   "source": [
    "#Saving labels\n",
    "df['cluster_label'].to_csv('../data/G09_u_labels.csv')"
   ]
  },
  {
   "cell_type": "code",
   "execution_count": null,
   "id": "07b091d1-78fa-4e85-ad66-e5dd161ff47a",
   "metadata": {},
   "outputs": [],
   "source": []
  }
 ],
 "metadata": {
  "kernelspec": {
   "display_name": "Python 3 (ipykernel)",
   "language": "python",
   "name": "python3"
  },
  "language_info": {
   "codemirror_mode": {
    "name": "ipython",
    "version": 3
   },
   "file_extension": ".py",
   "mimetype": "text/x-python",
   "name": "python",
   "nbconvert_exporter": "python",
   "pygments_lexer": "ipython3",
   "version": "3.9.12"
  }
 },
 "nbformat": 4,
 "nbformat_minor": 5
}
